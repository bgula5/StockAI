{
  "metadata": {
    "language_info": {
      "codemirror_mode": {
        "name": "python",
        "version": 3
      },
      "file_extension": ".py",
      "mimetype": "text/x-python",
      "name": "python",
      "nbconvert_exporter": "python",
      "pygments_lexer": "ipython3",
      "version": "3.8"
    },
    "kernelspec": {
      "name": "python",
      "display_name": "Python (Pyodide)",
      "language": "python"
    }
  },
  "nbformat_minor": 4,
  "nbformat": 4,
  "cells": [
    {
      "cell_type": "code",
      "source": "import pandas as pd\nfrom sklearn.preprocessing import MinMaxScaler\nfrom sklearn.model_selection import train_test_split\nfrom keras.models import Sequential\nfrom keras.layers import LSTM, Dense\nimport matplotlib.pyplot as plt\nimport tensorflow\n\n\ndef data_preprocess(file_location):\n    nvda_data = pd.read_csv(file_location)\n\n    print(nvda_data.head())\n\n    nvda_data['Date'] = pd.to_datetime(nvda_data['Date'])\n\n    # moving average\n    nvda_data['MA_week'] = nvda_data['Close'].rolling(window=7).mean()\n    nvda_data['MA_month'] = nvda_data['Close'].rolling(window=30).mean()\n\n    # volume average\n    nvda_data['VL_week'] = nvda_data['Volume'].rolling(window=7).mean()\n    nvda_data['VL_month'] = nvda_data['Volume'].rolling(window=30).mean()\n\n    nvda_data.dropna(inplace=True)\n\n    scaler = MinMaxScaler()\n    scaled_data = scaler.fit_transform(nvda_data[['Open', 'High', 'Low', 'Close', 'Volume']])\n\n    nvda_scaled = pd.DataFrame(scaled_data, columns=['Open', 'High', 'Low', 'Close', 'Volume'])\n    print(nvda_scaled)\n\n    nvda_scaled['Next_Day_Close'] = nvda_scaled['Close'].shift(-1)\n\n    x = nvda_scaled.drop('Next_Day_Close', axis=1)\n    y = nvda_scaled['Next_Day_Close']\n\n    x_train, x_test, y_train, y_test = train_test_split(x, y, test_size=0.2, random_state=42)\n\n    modeling(x_train, y_train, y_test)\n\n\ndef modeling(x_training, y_training, y_test):\n    model = Sequential()\n    model.add(LSTM(units=50, input_shape=(x_training.shape[1], 1)))\n    model.add(Dense(units=1))\n\n    model.compile(optimizer='adam', loss='mean_squared_error')\n    model.fit(x_training.values.reshape((x_training.shape[0], x_training.shape[1], 1)), y_training, epochs=50,\n              batch_size=32)\n\n    validation(y_training, y_test)\n\n\ndef validation(y_test, prediction):\n    plt.figure(figsize=(10, 6))\n    plt.plot(y_test.values, label='Actual')\n    plt.plot(prediction, label='Predicted')\n    plt.title('Actual vs. Predicted Values')\n    plt.legend()\n    plt.show()\n\n\nif __name__ == '__main__':\n    data_preprocess(r'.\\data\\NVDA.csv')",
      "metadata": {},
      "execution_count": null,
      "outputs": []
    }
  ]
}